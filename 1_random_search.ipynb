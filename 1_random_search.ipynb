{
 "nbformat": 4,
 "nbformat_minor": 0,
 "metadata": {
  "colab": {
   "provenance": [],
   "authorship_tag": "ABX9TyNqDgZeHgK+XMge+j1jaeRQ"
  },
  "kernelspec": {
   "name": "python3",
   "language": "python",
   "display_name": "Python 3 (ipykernel)"
  },
  "language_info": {
   "name": "python"
  }
 },
 "cells": [
  {
   "cell_type": "markdown",
   "source": "<h1><center>Lab 1 - A1</center></h1>",
   "metadata": {
    "id": "l3AhE5zIRKGA"
   }
  },
  {
   "cell_type": "markdown",
   "source": [
    "##\tREQUIREMENTS\n",
    "1.\tSource code (notebook) needs to be documented.\n",
    "2.\tAlgorithms have to be tested for several parameter values (sufficient to clearly determine performance).\n",
    "3.\tExperiments must be performed for all available problem instances and results compared for diferent parameter settings.\n",
    "4.\tResults of the experiments need to be saved in output files, indicating solution quality, parameter values used, number of runs.\n",
    "5.\tA report should capture the following: problem definition, algorithm used (name, steps/pseudocode), parameter setting, comparative results of experiments, discussion of results.\n"
   ],
   "metadata": {
    "id": "Obv1SLYtS3ze"
   }
  },
  {
   "cell_type": "markdown",
   "source": [
    "## Knapsack Problem\n",
    "- $n$ objects, each has a value ($v$) and a weight ($w$)\n",
    "- Objective: the knapsack to contain max value without exceeding max weight $W$\n",
    " - $x_i=1$ means object $i$ is selected\n",
    " - $x_i=0$ means object $j$ is not selected\n",
    "\n",
    "![image.png](data:image/png;base64,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)\n"
   ],
   "metadata": {
    "id": "ym56-lt5Rnxq"
   }
  },
  {
   "cell_type": "markdown",
   "source": [
    "## WORK DURING THE LAB\n",
    "1.\tExhaustive search: generate all possible binary strings of size N and print them on the screen. Test the code for different values of N.\n",
    "2.\tRead data for the knapsack problem.\n",
    "3.\tGenerate a random solution for the knapsack problem and verify its quality.\n",
    "\n",
    "**Points for the work during the lab: 25p**\n"
   ],
   "metadata": {
    "id": "1G_mfXu8RNXf"
   }
  },
  {
   "cell_type": "code",
   "metadata": {
    "colab": {
     "base_uri": "https://localhost:8080/",
     "height": 104
    },
    "id": "eQWzsehCRGYA",
    "executionInfo": {
     "status": "ok",
     "timestamp": 1737319632058,
     "user_tz": -120,
     "elapsed": 784,
     "user": {
      "displayName": "Mihai-Adrian Loghin",
      "userId": "02388135470239987746"
     }
    },
    "outputId": "79094fdd-aa4c-4a1d-ac82-3ea7119cd1ad",
    "ExecuteTime": {
     "end_time": "2025-06-05T16:45:26.268695Z",
     "start_time": "2025-06-05T16:45:26.261696Z"
    }
   },
   "source": [
    "\n",
    "def load_data(file_name: str) -> \"list[tuple[int, int]], int, int\":\n",
    "    weights_and_values = []\n",
    "    with open(file_name) as f:\n",
    "        lines = f.readlines()\n",
    "        num_items = int(lines[0].strip())\n",
    "        for line in lines[1:num_items + 1]:\n",
    "            parts = line.split()\n",
    "            weight, value = int(parts[1]), int(parts[2])\n",
    "            weights_and_values.append((weight, value))\n",
    "        capacity = int(lines[num_items + 1].strip())\n",
    "    return weights_and_values, capacity, num_items\n",
    "\n",
    "# Read the 20 item knapsack file\n",
    "data, capacity, num_items = load_data(\"data/knapsack/knapsack-20.txt\")\n",
    "print(\"Nr of items: \" + str(num_items))\n",
    "print (\"Capacity: \" + str(capacity))\n",
    "print(\"Data: \")\n",
    "print(data)\n"
   ],
   "outputs": [
    {
     "name": "stdout",
     "output_type": "stream",
     "text": [
      "Nr of items: 20\n",
      "Capacity: 524\n",
      "Data: \n",
      "[(91, 29), (60, 65), (61, 71), (9, 60), (79, 45), (46, 71), (19, 22), (57, 97), (8, 6), (84, 91), (20, 57), (72, 60), (32, 49), (31, 89), (28, 2), (81, 30), (55, 90), (43, 25), (100, 82), (27, 19)]\n"
     ]
    }
   ],
   "execution_count": 2
  },
  {
   "cell_type": "markdown",
   "source": [
    "## WORK DURING THE LAB\n",
    "1.\tExhaustive search: generate all possible binary strings of size N and print them on the screen. Test the code for different values of N."
   ],
   "metadata": {
    "collapsed": false
   }
  },
  {
   "cell_type": "code",
   "source": [
    "def generate_binary_string(n : int) -> \"list[str]\":\n",
    "    \"\"\"\n",
    "    Generate all binary strings of length n\n",
    "    Input:\n",
    "        n: int, length of binary string \n",
    "    Output:\n",
    "        list of binary strings\n",
    "    \"\"\"\n",
    "    if n == 0:\n",
    "        return ['']\n",
    "    return ['0' + s for s in generate_binary_string(n - 1)] + ['1' + s for s in generate_binary_string(n - 1)]\n",
    "\n",
    "\n",
    "# Test for n=1..5 and add results to a dictionary\n",
    "results = {}\n",
    "for i in range(1, 5):\n",
    "    results[i] = generate_binary_string(i)\n",
    "    \n",
    "# Print dictionary of results\n",
    "results"
   ],
   "metadata": {
    "collapsed": false,
    "ExecuteTime": {
     "end_time": "2025-03-07T07:15:09.840193Z",
     "start_time": "2025-03-07T07:15:09.829682Z"
    }
   },
   "outputs": [
    {
     "data": {
      "text/plain": [
       "{1: ['0', '1'],\n",
       " 2: ['00', '01', '10', '11'],\n",
       " 3: ['000', '001', '010', '011', '100', '101', '110', '111'],\n",
       " 4: ['0000',\n",
       "  '0001',\n",
       "  '0010',\n",
       "  '0011',\n",
       "  '0100',\n",
       "  '0101',\n",
       "  '0110',\n",
       "  '0111',\n",
       "  '1000',\n",
       "  '1001',\n",
       "  '1010',\n",
       "  '1011',\n",
       "  '1100',\n",
       "  '1101',\n",
       "  '1110',\n",
       "  '1111']}"
      ]
     },
     "execution_count": 3,
     "metadata": {},
     "output_type": "execute_result"
    }
   ],
   "execution_count": 3
  },
  {
   "cell_type": "markdown",
   "source": [
    "## WORK DURING THE LAB\n",
    "3. Generate a random solution for the knapsack problem and verify its quality."
   ],
   "metadata": {
    "collapsed": false
   }
  },
  {
   "cell_type": "code",
   "source": [
    "import random\n",
    "\n",
    "def generate_random_solution(num_items: int) -> \"list[int]\":\n",
    "    \"\"\"\n",
    "    Generate a random list of 0s and 1s\n",
    "    Input:\n",
    "        num_items: int, number of items\n",
    "    Output:\n",
    "        list of 0s and 1s \n",
    "    \"\"\"\n",
    "    return [random.randint(0, 1) for _ in range(num_items)]\n",
    "\n",
    "def eval_sol(random_sol, data, capacity):\n",
    "    \"\"\"\n",
    "    Evaluate the solution\n",
    "    Input:\n",
    "        random_sol: list of 0s and 1s\n",
    "        data: list of tuples with weights and values\n",
    "        capacity: int, max capacity of the knapsack\n",
    "    Output:\n",
    "        string indicating validity and quality of the solution\n",
    "    \"\"\"\n",
    "    weight = 0\n",
    "    value = 0\n",
    "    for i in range(len(random_sol)):\n",
    "        if random_sol[i] == 1:\n",
    "            weight += data[i][0]\n",
    "            value += data[i][1]\n",
    "    \n",
    "    if weight > capacity:\n",
    "        return f\"Invalid solution with weight: {weight} exceeding max capacity: {capacity}\"\n",
    "    else: \n",
    "        return f\"Valid solution with weight: {weight} and value: {value}\"\n",
    "\n",
    "random_sol = generate_random_solution(num_items)\n",
    "\n",
    "print(random_sol)\n",
    "print(eval_sol(random_sol, data, capacity))"
   ],
   "metadata": {
    "collapsed": false,
    "ExecuteTime": {
     "end_time": "2025-03-07T07:15:11.937371Z",
     "start_time": "2025-03-07T07:15:11.922962Z"
    }
   },
   "outputs": [
    {
     "name": "stdout",
     "output_type": "stream",
     "text": [
      "[0, 1, 1, 1, 0, 0, 0, 1, 1, 1, 1, 0, 0, 0, 0, 1, 1, 0, 0, 1]\n",
      "Valid solution with weight: 462 and value: 586\n"
     ]
    }
   ],
   "execution_count": 4
  },
  {
   "cell_type": "markdown",
   "source": [
    "##\tASSIGNMENT A1\n",
    "1.\tImplement a random search method for the knapsack problem.\n",
    " 1.\tFrom k random solutions, the method should return the best one.\n",
    " 1.\tTest the method for different values of k.\n",
    " 1.\tPerform experiments for knapsack instances of size 20 and 200.\n",
    "1.\tSubmit source code and report.\n",
    "\n",
    "**Deadline to submit A1: Lab 2**\n",
    "**Points for A1: 25p**\n"
   ],
   "metadata": {
    "id": "TjYvjqK6Sd6H"
   }
  },
  {
   "cell_type": "markdown",
   "source": [
    "## Idea\n",
    "- Generate random solution\n",
    "- Find its fitness value (total value of the solution)\n",
    "- Verify if the solution is valid (total weight of the solution is less than the capacity)\n",
    "- Repeat the above steps k times\n",
    "- Return the best solution (random search method)\n",
    "- Run the random search method n times\n",
    "- Perform experiments for knapsack instances of size 20 and 200 (prints, plots, etc..)"
   ],
   "metadata": {
    "collapsed": false
   }
  },
  {
   "cell_type": "code",
   "source": [
    "import numpy as np\n",
    "import matplotlib.pyplot as plt\n",
    "\n",
    "def generate_solution(n: int):\n",
    "    \"\"\"\n",
    "        Generate solution of length n using binary encoding\n",
    "        Input:\n",
    "          n: int\n",
    "        Output:\n",
    "          sol: list\n",
    "              - binary encoding solution\n",
    "    \"\"\"\n",
    "    return list(np.random.randint(2, size=n))\n",
    "\n",
    "def fitness(solution: list[int], data: list[tuple[int, int]], capacity: int) -> tuple[int, int]:\n",
    "    \"\"\"\n",
    "    Fitness function to evaluate the solution for the knapsack problem by calculating the total weight and value of the solution\n",
    "    Input:\n",
    "        solution: list of 0s and 1s representing the inclusion of items\n",
    "        data: list of tuples where each tuple contains (weight, value) of an item\n",
    "        capacity: int, maximum capacity of the knapsack\n",
    "    Output:\n",
    "        total weight, total value of solution\n",
    "    \"\"\"\n",
    "    total_value = 0\n",
    "    total_weight = 0\n",
    "    \n",
    "    for i in range(len(solution)):\n",
    "        if solution[i] == 1:\n",
    "            total_value += data[i][1]\n",
    "            total_weight+= data[i][0]\n",
    "    \n",
    "    return total_weight, total_value\n",
    "\n",
    "def is_valid(solution: list[int], data: list[tuple[int, int]], capacity: int) -> bool:\n",
    "    \"\"\"\n",
    "    Check if the solution is valid by checking if the total weight of the solution is less than the capacity\n",
    "    Input:\n",
    "        solution: list of 0s and 1s representing the inclusion of items\n",
    "        data: list of tuples where each tuple contains (weight, value) of an item\n",
    "        capacity: int, maximum capacity of the knapsack\n",
    "    Output:\n",
    "        bool: True if the solution is valid, False otherwise\n",
    "    \"\"\"\n",
    "    weight = fitness(solution, data, capacity)[0]\n",
    "    \n",
    "    return weight <= capacity\n",
    "\n",
    "def generate_valid_sol(data: list[tuple[int, int]], capacity: int) -> list[int]:\n",
    "    \"\"\"\n",
    "    Generate a valid solution by generating random solutions until a valid solution is found\n",
    "    Input:\n",
    "        data: list of tuples where each tuple contains (weight, value) of an item\n",
    "        capacity: int, maximum capacity of the knapsack\n",
    "    Output:\n",
    "        list: a valid solution\n",
    "    \"\"\"\n",
    "    while True:\n",
    "        solution = generate_solution(len(data))\n",
    "        if is_valid(solution, data, capacity):\n",
    "            return solution\n",
    "        \n",
    "def generate_k_valid_sol(data: list[tuple[int, int]], capacity: int, k: int) -> list[list[int]]:\n",
    "    \"\"\"\n",
    "    Generate k valid solutions\n",
    "    Input:\n",
    "        data: list of tuples where each tuple contains (weight, value) of an item\n",
    "        capacity: int, maximum capacity of the knapsack\n",
    "        k: int, number of solutions to generate\n",
    "    Output:\n",
    "        list: k valid solutions\n",
    "    \"\"\"\n",
    "    return [generate_valid_sol(data, capacity) for _ in range(k)]\n",
    "\n",
    "def random_search(data: list[tuple[int, int]], capacity: int, k: int) -> tuple[list[int], tuple[int, int]]:\n",
    "    \"\"\"\n",
    "    Random search method for the knapsack problem\n",
    "    Input:\n",
    "        data: list of tuples where each tuple contains (weight, value) of an item\n",
    "        capacity: int, maximum capacity of the knapsack\n",
    "        k: int, number of solutions to generate\n",
    "    Output:\n",
    "        tuple: best solution and its fitness value\n",
    "    \"\"\"\n",
    "    solutions = generate_k_valid_sol(data, capacity, k)\n",
    "    best_solution = None\n",
    "    best_fitness_value = -1\n",
    "\n",
    "    for solution in solutions:\n",
    "        current_fitness = fitness(solution, data, capacity)\n",
    "        if current_fitness[1] > best_fitness_value:\n",
    "            best_solution = solution\n",
    "            best_fitness_value = current_fitness[1]\n",
    "        elif current_fitness[1] == best_fitness_value and current_fitness[0] < fitness(best_solution, data, capacity)[0]:\n",
    "            best_solution = solution\n",
    "\n",
    "    return best_solution, fitness(best_solution, data, capacity)\n",
    "\n",
    "def random_search_n_times(data: list[tuple[int, int]], capacity: int, k: int, n: int) -> list[tuple[list[int], tuple[int, int]]]:\n",
    "    \"\"\"\n",
    "    Run the random search method n times\n",
    "    Input:\n",
    "        data: list of tuples where each tuple contains (weight, value) of an item\n",
    "        capacity: int, maximum capacity of the knapsack\n",
    "        k: int, number of solutions to generate\n",
    "        n: int, number of times to run the random search\n",
    "    Output:\n",
    "        list: best solutions and their fitness values for each run\n",
    "    \"\"\"\n",
    "    \n",
    "    # Store the best solutions and their fitness values for each run\n",
    "    return [random_search(data, capacity, k) for _ in range(n)]\n",
    "    \n",
    "def get_average_value_solutions(solutions: list[tuple[list[int], tuple[int, int]]]) -> float:\n",
    "    \"\"\"\n",
    "    Get the average value of the solutions\n",
    "    Input:\n",
    "        solutions: list of tuples where each tuple contains a solution and its fitness value\n",
    "    Output:\n",
    "        float: average value of the solutions\n",
    "    \"\"\"\n",
    "    total_value = 0\n",
    "    for solution in solutions:\n",
    "        total_value += solution[1][1]\n",
    "    avg = total_value / len(solutions)\n",
    "    \n",
    "    # Round to 2 decimals for better readability\n",
    "    return round(avg, 2)\n",
    "\n",
    "def get_max_sol(solutions: list[tuple[list[int], tuple[int, int]]]) -> tuple[list[int], int]:\n",
    "    \"\"\" \n",
    "    Return the maximum solution with its value\n",
    "    Input:\n",
    "        solutions: list of tuples where each tuple contains a solution and its fitness value\n",
    "    Output:\n",
    "        list: the maximum solution, int: maximum value\n",
    "    \"\"\"\n",
    "    max_sol = None\n",
    "    max_value = -1\n",
    "    for solution in solutions:\n",
    "        if solution[1][1] > max_value:\n",
    "            max_sol = solution[0]\n",
    "            max_value = solution[1][1]\n",
    "    return max_sol, max_value\n",
    "\n",
    "def plot_max_avg_values(list_for_plt):\n",
    "    \"\"\"\n",
    "    Plot the maximum value and average values of the solutions against the number of solutions generated.\n",
    "    Input:\n",
    "        list_for_plt: list of tuples where each tuple contains the number of solutions, maximum value, and average value\n",
    "    \"\"\"\n",
    "    k_values = [x[0] for x in list_for_plt]\n",
    "    max_values = [x[1] for x in list_for_plt]\n",
    "    avg_values = [x[2] for x in list_for_plt]\n",
    "\n",
    "    plt.plot(k_values, max_values, marker='o', linestyle=':', color='blue', label='Maximum Value')\n",
    "    plt.plot(k_values, avg_values, marker='o', linestyle='-', color='red', label='Average Value')\n",
    "    plt.title('Random Search N Times Results')\n",
    "    plt.xlabel('Number of Solutions (k)')\n",
    "    plt.ylabel('Value')\n",
    "    plt.legend()\n",
    "    plt.grid(True)\n",
    "    plt.show()\n",
    "    \n",
    "    \n",
    "def mark_down_table_stats(n_values, k_values, max_and_avg_list):\n",
    "    \"\"\"\n",
    "    Create a markdown table for the maximum and average values of the solutions\n",
    "    Input:\n",
    "        n_values: list of n values\n",
    "        k_values: list of k values\n",
    "        max_and_avg_list: list of tuples where each tuple contains the maximum and average values of the solutions\n",
    "    Output:\n",
    "        string for markdown table\n",
    "    \"\"\"\n",
    "    table = \"| n | k | Maximum Value | Average Value |\\n\"\n",
    "    table += \"|---|---|---------------|---------------|\\n\"\n",
    "    index = 0\n",
    "    for n in n_values:\n",
    "        for k in k_values:\n",
    "            max_value, avg_value = max_and_avg_list[index]\n",
    "            table += f\"| {n} | {k} | {max_value} | {avg_value} |\\n\"\n",
    "            index += 1\n",
    "    print(table)\n",
    "    \n",
    "import csv\n",
    "\n",
    "def save_results_to_csv(file_name, n_values, k_values, max_and_avg_list):\n",
    "    \"\"\"\n",
    "    Save the results of the experiments to a CSV file.\n",
    "    \n",
    "    Input:\n",
    "    file_name (str): The name of the output CSV file.\n",
    "    n_values (list[int]): List of n values.\n",
    "    k_values (list[int]): List of k values.\n",
    "    max_and_avg_list (list[tuple[int, float]]): List of tuples containing maximum and average values.\n",
    "    \"\"\"\n",
    "    with open(file_name, mode='a', newline='') as file:\n",
    "        writer = csv.writer(file)\n",
    "        writer.writerow([\"n\", \"k\", \"Maximum Value\", \"Average Value\"])\n",
    "        index = 0\n",
    "        for n in n_values:\n",
    "            for k in k_values:\n",
    "                max_value, avg_value = max_and_avg_list[index]\n",
    "                writer.writerow([n, k, max_value, avg_value])\n",
    "                index += 1\n",
    "        writer.writerow([])\n"
   ],
   "metadata": {
    "id": "gKgwgnHnSvlv",
    "ExecuteTime": {
     "end_time": "2025-03-07T07:15:16.904547Z",
     "start_time": "2025-03-07T07:15:14.861660Z"
    }
   },
   "outputs": [],
   "execution_count": 5
  },
  {
   "cell_type": "markdown",
   "source": [
    "## Tests for knapsack instances of size 20"
   ],
   "metadata": {
    "collapsed": false
   }
  },
  {
   "cell_type": "code",
   "source": [
    "data, capacity, num_items = load_data('data/knapsack/knapsack-20.txt')\n",
    "print(f\"The data set: {data}\")\n",
    "print(f\"The capacity: {capacity}\")\n",
    "print(f\"The number of items: {num_items} \\n\")\n",
    "\n",
    "# Test the random search method for different values of k\n",
    "k_values = [5, 15, 50, 100, 1000, 10000]\n",
    "\n",
    "n = 1000\n",
    "\n",
    "list_for_plt = []\n",
    "\n",
    "for k in k_values:\n",
    "    best_solutions = random_search_n_times(data, capacity, k, n)\n",
    "    print(f\"Best solution for k = {k} and n = {n}:\")\n",
    "    best_sol, max_value = get_max_sol(best_solutions)\n",
    "    avg_value = get_average_value_solutions(best_solutions)\n",
    "    print(f\"Best solution: {best_sol} having a value of {max_value}\")\n",
    "    print(f\"Average value of the solutions: {avg_value} \\n\")\n",
    "    list_for_plt.append([k, max_value, avg_value])\n",
    "    \n",
    "plot_max_avg_values(list_for_plt)"
   ],
   "metadata": {
    "collapsed": false,
    "ExecuteTime": {
     "end_time": "2025-03-07T07:21:13.062615Z",
     "start_time": "2025-03-07T07:17:30.668931Z"
    }
   },
   "outputs": [
    {
     "name": "stdout",
     "output_type": "stream",
     "text": [
      "The data set: [(91, 29), (60, 65), (61, 71), (9, 60), (79, 45), (46, 71), (19, 22), (57, 97), (8, 6), (84, 91), (20, 57), (72, 60), (32, 49), (31, 89), (28, 2), (81, 30), (55, 90), (43, 25), (100, 82), (27, 19)]\n",
      "The capacity: 524\n",
      "The number of items: 20 \n",
      "\n",
      "Best solution for k = 5 and n = 1000:\n",
      "Best solution: [0, 1, 1, 1, 0, 1, 1, 0, 0, 1, 1, 1, 1, 1, 0, 0, 1, 0, 0, 1] having a value of 744\n",
      "Average value of the solutions: 565.17 \n",
      "\n",
      "Best solution for k = 15 and n = 1000:\n",
      "Best solution: [0, 0, 1, 1, 0, 1, 0, 1, 0, 1, 1, 0, 1, 1, 0, 0, 1, 0, 1, 1] having a value of 776\n",
      "Average value of the solutions: 613.72 \n",
      "\n",
      "Best solution for k = 50 and n = 1000:\n",
      "Best solution: [0, 1, 1, 1, 0, 1, 1, 1, 0, 1, 1, 0, 1, 1, 0, 0, 1, 1, 0, 0] having a value of 787\n",
      "Average value of the solutions: 655.59 \n",
      "\n",
      "Best solution for k = 100 and n = 1000:\n",
      "Best solution: [0, 1, 0, 1, 0, 1, 1, 1, 1, 1, 1, 0, 1, 1, 0, 0, 1, 0, 1, 0] having a value of 779\n",
      "Average value of the solutions: 675.89 \n",
      "\n",
      "Best solution for k = 1000 and n = 1000:\n",
      "Best solution: [0, 1, 1, 1, 0, 1, 1, 1, 0, 1, 1, 0, 1, 1, 0, 0, 1, 1, 0, 0] having a value of 787\n",
      "Average value of the solutions: 724.53 \n",
      "\n",
      "Best solution for k = 10000 and n = 1000:\n",
      "Best solution: [0, 1, 1, 1, 0, 1, 1, 1, 0, 1, 1, 0, 1, 1, 0, 0, 1, 1, 0, 0] having a value of 787\n",
      "Average value of the solutions: 760.22 \n",
      "\n"
     ]
    },
    {
     "data": {
      "text/plain": [
       "<Figure size 640x480 with 1 Axes>"
      ],
      "image/png": "[encoded data removed]"
     },
     "metadata": {},
     "output_type": "display_data"
    }
   ],
   "execution_count": 9
  },
  {
   "cell_type": "code",
   "execution_count": 26,
   "outputs": [
    {
     "name": "stdout",
     "output_type": "stream",
     "text": [
      "| n | k | Maximum Value | Average Value |\n",
      "|---|---|---------------|---------------|\n",
      "| 10 | 5 | 653 | 575.0 |\n",
      "| 10 | 15 | 678 | 603.9 |\n",
      "| 10 | 50 | 756 | 668.8 |\n",
      "| 10 | 100 | 721 | 666.9 |\n",
      "| 20 | 5 | 719 | 574.85 |\n",
      "| 20 | 15 | 670 | 603.9 |\n",
      "| 20 | 50 | 719 | 658.3 |\n",
      "| 20 | 100 | 730 | 682.4 |\n",
      "| 30 | 5 | 689 | 558.13 |\n",
      "| 30 | 15 | 713 | 614.73 |\n",
      "| 30 | 50 | 723 | 660.33 |\n",
      "| 30 | 100 | 740 | 683.47 |\n"
     ]
    }
   ],
   "source": [
    "n_values = [10, 20, 30]\n",
    "k_values = [5, 15, 50, 100]\n",
    "\n",
    "max_and_avg_list = []\n",
    "for n in n_values:\n",
    "    for k in k_values:\n",
    "        best_solutions = random_search_n_times(data, capacity, k, n)\n",
    "        avg_value = get_average_value_solutions(best_solutions)\n",
    "        _, max_value = get_max_sol(best_solutions)\n",
    "        max_and_avg_list.append((max_value, avg_value))\n",
    "\n",
    "mark_down_table_stats(n_values, k_values, max_and_avg_list)\n",
    "\n",
    "save_results_to_csv(\"knapsack_results_20.csv\", n_values, k_values, max_and_avg_list)"
   ],
   "metadata": {
    "collapsed": false,
    "ExecuteTime": {
     "end_time": "2025-03-03T12:37:51.454226600Z",
     "start_time": "2025-03-03T12:37:51.217650800Z"
    }
   }
  },
  {
   "cell_type": "markdown",
   "source": [
    "| n | k | Maximum Value | Average Value |\n",
    "|---|---|---------------|---------------|\n",
    "| 10 | 5 | 653 | 575.0 |\n",
    "| 10 | 15 | 678 | 603.9 |\n",
    "| 10 | 50 | 756 | 668.8 |\n",
    "| 10 | 100 | 721 | 666.9 |\n",
    "| 20 | 5 | 719 | 574.85 |\n",
    "| 20 | 15 | 670 | 603.9 |\n",
    "| 20 | 50 | 719 | 658.3 |\n",
    "| 20 | 100 | 730 | 682.4 |\n",
    "| 30 | 5 | 689 | 558.13 |\n",
    "| 30 | 15 | 713 | 614.73 |\n",
    "| 30 | 50 | 723 | 660.33 |\n",
    "| 30 | 100 | 740 | 683.47 |\n"
   ],
   "metadata": {
    "collapsed": false
   }
  },
  {
   "cell_type": "markdown",
   "source": [
    "## Tests for knapsack instances of size 200"
   ],
   "metadata": {
    "collapsed": false
   }
  },
  {
   "cell_type": "code",
   "execution_count": 27,
   "outputs": [
    {
     "name": "stdout",
     "output_type": "stream",
     "text": [
      "The data set: [(835, 735), (1670, 1470), (3340, 2940), (1087, 987), (1087, 987), (517, 417), (1034, 834), (2068, 1668), (1034, 834), (630, 530), (1260, 1060), (1260, 1060), (1071, 971), (165, 65), (330, 130), (495, 195), (176, 76), (663, 563), (1326, 1126), (1326, 1126), (984, 884), (1968, 1768), (2952, 2652), (829, 729), (1658, 1458), (3316, 2916), (829, 729), (663, 563), (1326, 1126), (1989, 1689), (1086, 986), (1086, 986), (639, 539), (1278, 1078), (2556, 2156), (1917, 1617), (895, 795), (1790, 1590), (3580, 3180), (888, 788), (1776, 1576), (3552, 3152), (2664, 2364), (232, 132), (464, 264), (928, 528), (464, 264), (472, 372), (944, 744), (691, 591), (1382, 1182), (2764, 2364), (1052, 952), (1052, 952), (1057, 957), (2114, 1914), (2114, 1914), (456, 356), (912, 712), (651, 551), (1302, 1102), (1953, 1653), (711, 611), (1422, 1222), (1042, 942), (232, 132), (464, 264), (696, 396), (1099, 999), (1099, 999), (1029, 929), (2058, 1858), (4116, 3716), (139, 39), (297, 197), (602, 502), (602, 502), (461, 361), (922, 722), (461, 361), (231, 131), (462, 262), (924, 524), (895, 795), (1790, 1590), (1790, 1590), (888, 788), (1776, 1576), (2664, 2364), (575, 475), (1150, 950), (2300, 1900), (524, 424), (1048, 848), (1572, 1272), (1063, 963), (2126, 1926), (1063, 963), (912, 812), (1824, 1624), (3648, 3248), (2736, 2436), (1095, 995), (2190, 1990), (3285, 2985), (1042, 942), (2084, 1884), (2084, 1884), (770, 670), (1540, 1340), (3080, 2680), (973, 873), (1946, 1746), (1017, 917), (697, 597), (1394, 1194), (2788, 2388), (697, 597), (586, 486), (1172, 972), (1758, 1458), (734, 634), (1468, 1268), (2936, 2536), (734, 634), (437, 337), (874, 674), (437, 337), (365, 265), (365, 265), (794, 694), (1588, 1388), (2382, 2082), (987, 887), (1974, 1774), (1974, 1774), (258, 158), (258, 158), (907, 807), (1814, 1614), (3628, 3228), (2721, 2421), (304, 204), (608, 408), (1216, 816), (912, 612), (575, 475), (1150, 950), (2300, 1900), (1725, 1425), (300, 200), (600, 400), (979, 879), (1958, 1758), (220, 120), (440, 240), (660, 360), (958, 858), (1916, 1716), (3832, 3432), (303, 203), (606, 406), (606, 406), (789, 689), (789, 689), (832, 732), (1664, 1464), (982, 882), (851, 751), (1702, 1502), (3404, 3004), (686, 586), (1372, 1172), (543, 443), (543, 443), (303, 203), (606, 406), (909, 609), (864, 764), (1728, 1528), (3456, 3056), (864, 764), (522, 422), (1044, 844), (2088, 1688), (1044, 844), (703, 603), (1406, 1206), (2812, 2412), (2109, 1809), (1021, 921), (2042, 1842), (4084, 3684), (2042, 1842), (753, 653), (1506, 1306), (3012, 2612), (2259, 1959), (801, 701), (1602, 1402)]\n",
      "The capacity: 112648\n",
      "The number of items: 200 \n",
      "\n",
      "Best solution for k = 5 and n = 10:\n",
      "Best solution: [0, 1, 1, 0, 0, 0, 0, 1, 0, 0, 0, 1, 0, 1, 0, 1, 0, 1, 0, 0, 0, 1, 0, 0, 0, 1, 1, 0, 0, 0, 0, 0, 1, 0, 1, 1, 1, 1, 0, 0, 0, 0, 0, 0, 0, 1, 0, 1, 0, 0, 0, 1, 0, 0, 0, 1, 0, 0, 0, 0, 1, 0, 0, 1, 1, 0, 1, 1, 0, 0, 0, 1, 1, 0, 0, 0, 0, 1, 0, 1, 0, 1, 0, 1, 0, 0, 1, 0, 1, 0, 0, 0, 0, 0, 1, 0, 0, 1, 0, 0, 0, 0, 0, 1, 0, 0, 1, 1, 1, 1, 1, 1, 1, 0, 0, 1, 0, 1, 0, 0, 0, 0, 1, 1, 0, 1, 1, 0, 0, 1, 0, 0, 0, 0, 1, 1, 0, 0, 1, 1, 0, 1, 0, 0, 0, 1, 1, 1, 1, 0, 0, 1, 0, 1, 0, 1, 0, 0, 1, 0, 1, 0, 1, 1, 1, 0, 1, 1, 0, 0, 1, 1, 0, 0, 0, 0, 0, 1, 0, 0, 1, 1, 1, 0, 1, 0, 1, 0, 0, 1, 1, 0, 0, 0, 0, 0, 0, 0, 0, 0] having a value of 96089\n",
      "Average value of the solutions: 94930.6 \n",
      "\n",
      "Best solution for k = 15 and n = 10:\n",
      "Best solution: [1, 1, 0, 0, 0, 1, 1, 1, 0, 1, 1, 0, 0, 0, 1, 0, 1, 0, 0, 1, 1, 0, 0, 0, 0, 0, 0, 1, 0, 0, 1, 0, 0, 0, 1, 1, 0, 0, 1, 0, 0, 0, 0, 0, 0, 1, 0, 0, 0, 0, 0, 0, 0, 1, 0, 0, 0, 1, 1, 1, 1, 1, 0, 1, 0, 1, 1, 0, 1, 0, 0, 1, 0, 0, 0, 0, 0, 1, 0, 0, 1, 0, 0, 1, 1, 1, 0, 1, 1, 1, 0, 1, 0, 1, 0, 1, 0, 0, 0, 0, 1, 1, 0, 1, 1, 1, 0, 0, 1, 1, 0, 0, 1, 0, 1, 0, 0, 0, 1, 1, 1, 0, 1, 0, 0, 0, 0, 1, 0, 1, 0, 0, 1, 1, 1, 1, 0, 0, 0, 0, 1, 0, 1, 1, 0, 0, 1, 0, 0, 0, 0, 1, 1, 0, 0, 0, 0, 1, 1, 1, 1, 0, 1, 0, 0, 1, 0, 0, 0, 1, 0, 0, 0, 0, 1, 1, 0, 1, 1, 1, 1, 0, 1, 0, 0, 1, 0, 1, 0, 1, 1, 0, 0, 0, 1, 0, 0, 1, 0, 0] having a value of 96471\n",
      "Average value of the solutions: 95975.8 \n",
      "Best solution for k = 50 and n = 10:\n",
      "Best solution: [1, 0, 0, 1, 1, 1, 0, 0, 1, 1, 1, 1, 1, 0, 0, 0, 0, 0, 0, 0, 1, 0, 1, 1, 0, 0, 1, 1, 0, 1, 0, 0, 1, 0, 0, 0, 0, 0, 0, 1, 1, 1, 0, 0, 1, 0, 0, 1, 0, 1, 0, 0, 0, 1, 1, 0, 0, 0, 0, 1, 1, 0, 1, 0, 1, 1, 0, 0, 1, 0, 0, 1, 1, 0, 0, 1, 0, 1, 0, 0, 1, 0, 1, 1, 0, 1, 0, 0, 0, 0, 1, 0, 1, 1, 1, 0, 1, 0, 0, 0, 1, 0, 1, 0, 1, 1, 0, 1, 1, 0, 0, 1, 0, 0, 0, 0, 1, 0, 1, 1, 0, 0, 0, 0, 1, 0, 1, 0, 1, 0, 0, 1, 1, 0, 1, 1, 1, 0, 1, 1, 0, 0, 0, 1, 0, 0, 0, 1, 0, 0, 0, 1, 0, 1, 1, 0, 0, 1, 1, 1, 0, 0, 0, 0, 0, 1, 1, 0, 1, 1, 0, 0, 0, 0, 0, 1, 0, 1, 0, 0, 0, 0, 1, 1, 1, 1, 1, 0, 1, 1, 0, 1, 0, 0, 0, 1, 0, 0, 1, 0] having a value of 97239\n",
      "Average value of the solutions: 96619.7 \n",
      "Best solution for k = 100 and n = 10:\n",
      "Best solution: [0, 1, 0, 0, 0, 0, 0, 1, 0, 0, 0, 1, 0, 0, 0, 1, 1, 1, 0, 0, 1, 0, 0, 0, 1, 0, 1, 1, 0, 0, 0, 1, 0, 1, 0, 0, 0, 0, 0, 0, 1, 1, 1, 1, 0, 0, 0, 1, 1, 0, 1, 0, 1, 0, 1, 1, 1, 0, 0, 0, 1, 0, 1, 0, 1, 0, 0, 0, 0, 0, 0, 1, 1, 1, 1, 0, 1, 0, 0, 1, 1, 1, 1, 1, 0, 1, 1, 0, 1, 1, 0, 0, 1, 0, 0, 0, 0, 0, 0, 1, 1, 1, 1, 1, 0, 1, 0, 1, 0, 0, 0, 0, 0, 0, 1, 0, 0, 1, 1, 1, 0, 1, 0, 1, 1, 0, 0, 1, 0, 0, 0, 1, 1, 1, 1, 1, 1, 0, 0, 0, 0, 0, 0, 0, 0, 0, 0, 0, 1, 1, 1, 0, 1, 1, 0, 0, 0, 1, 1, 1, 1, 0, 0, 0, 0, 0, 0, 1, 1, 1, 0, 0, 0, 0, 1, 1, 0, 0, 1, 1, 0, 0, 0, 0, 0, 1, 0, 0, 0, 1, 1, 0, 0, 0, 0, 1, 1, 0, 1, 0] having a value of 97282\n",
      "Average value of the solutions: 96771.7 \n"
     ]
    },
    {
     "data": {
      "text/plain": "<Figure size 640x480 with 1 Axes>",
      "image/png": "[encoded data removed]"
     },
     "metadata": {},
     "output_type": "display_data"
    }
   ],
   "source": [
    "data, capacity, num_items = load_data('data/knapsack/rucsac-200.txt')\n",
    "print(f\"The data set: {data}\")\n",
    "print(f\"The capacity: {capacity}\")\n",
    "print(f\"The number of items: {num_items} \\n\")\n",
    "\n",
    "k_values = [5, 15, 50, 100]\n",
    "\n",
    "n = 10\n",
    "\n",
    "list_for_plt = []\n",
    "\n",
    "for k in k_values:\n",
    "    best_solutions = random_search_n_times(data, capacity, k, n)\n",
    "    print(f\"Best solution for k = {k} and n = {n}:\")\n",
    "    best_sol, max_value = get_max_sol(best_solutions)\n",
    "    avg_value = get_average_value_solutions(best_solutions)\n",
    "    print(f\"Best solution: {best_sol} having a value of {max_value}\")\n",
    "    print(f\"Average value of the solutions: {avg_value} \\n\")\n",
    "    list_for_plt.append([k, max_value, avg_value])\n",
    "\n",
    "plot_max_avg_values(list_for_plt)"
   ],
   "metadata": {
    "collapsed": false,
    "ExecuteTime": {
     "end_time": "2025-03-03T12:38:24.217662200Z",
     "start_time": "2025-03-03T12:38:22.511714900Z"
    }
   }
  },
  {
   "cell_type": "code",
   "execution_count": 29,
   "outputs": [
    {
     "name": "stdout",
     "output_type": "stream",
     "text": [
      "| n | k | Maximum Value | Average Value |\n",
      "|---|---|---------------|---------------|\n",
      "| 10 | 5 | 96517 | 95478.1 |\n",
      "| 10 | 15 | 96930 | 96295.9 |\n",
      "| 10 | 50 | 97136 | 96587.4 |\n",
      "| 10 | 100 | 97408 | 96812.9 |\n",
      "| 20 | 5 | 96957 | 95138.4 |\n",
      "| 20 | 15 | 97353 | 96086.4 |\n",
      "| 20 | 50 | 97068 | 96553.75 |\n",
      "| 20 | 100 | 97265 | 96746.25 |\n",
      "| 30 | 5 | 96738 | 95401.87 |\n",
      "| 30 | 15 | 96789 | 96143.2 |\n",
      "| 30 | 50 | 97466 | 96533.2 |\n",
      "| 30 | 100 | 97326 | 96779.1 |\n"
     ]
    }
   ],
   "source": [
    "n_values = [10, 20, 30]\n",
    "k_values = [5, 15, 50, 100]\n",
    "\n",
    "max_and_avg_list = []\n",
    "\n",
    "for n in n_values:\n",
    "    for k in k_values:\n",
    "        best_solutions = random_search_n_times(data, capacity, k, n)\n",
    "        avg_value = get_average_value_solutions(best_solutions)\n",
    "        _, max_value = get_max_sol(best_solutions)\n",
    "        max_and_avg_list.append((max_value, avg_value))\n",
    "\n",
    "mark_down_table_stats(n_values, k_values, max_and_avg_list)\n",
    "\n",
    "save_results_to_csv(\"knapsack_results_200.csv\", n_values, k_values, max_and_avg_list)"
   ],
   "metadata": {
    "collapsed": false,
    "ExecuteTime": {
     "end_time": "2025-03-03T12:39:53.649007500Z",
     "start_time": "2025-03-03T12:39:44.553002200Z"
    }
   }
  },
  {
   "cell_type": "markdown",
   "source": [
    "| n | k | Maximum Value | Average Value |\n",
    "|---|---|---------------|---------------|\n",
    "| 10 | 5 | 96517 | 95478.1 |\n",
    "| 10 | 15 | 96930 | 96295.9 |\n",
    "| 10 | 50 | 97136 | 96587.4 |\n",
    "| 10 | 100 | 97408 | 96812.9 |\n",
    "| 20 | 5 | 96957 | 95138.4 |\n",
    "| 20 | 15 | 97353 | 96086.4 |\n",
    "| 20 | 50 | 97068 | 96553.75 |\n",
    "| 20 | 100 | 97265 | 96746.25 |\n",
    "| 30 | 5 | 96738 | 95401.87 |\n",
    "| 30 | 15 | 96789 | 96143.2 |\n",
    "| 30 | 50 | 97466 | 96533.2 |\n",
    "| 30 | 100 | 97326 | 96779.1 |\n"
   ],
   "metadata": {
    "collapsed": false
   }
  },
  {
   "cell_type": "markdown",
   "source": [
    "## Conclusions\n",
    "\n",
    "**Random Search Method Performance**:\n",
    "   - The random search method was tested for different values of `k` (number of solutions generated) and `n` (number of times the random search is run).\n",
    "   - The results show that increasing the values of `k` and `n` generally leads to better solutions, as indicated by higher maximum and average values.\n",
    "\n",
    "**Comparison Between Knapsack Sizes**:\n",
    "   - The knapsack instance of size 200 shows significantly higher maximum and average values compared to the instance of size 20.\n",
    "   - This is expected due to the larger number of items and higher capacity, which allows for more valuable solutions.\n",
    "    - Time to run the random search method for the knapsack instance of size 200 is higher compared to the instance of size 20.\n",
    "\n",
    "Overall, the experiments demonstrate the effectiveness of the random search method for solving the knapsack problem, with better results achieved by increasing the number of solutions generated (`k`) and the number of times the search is run (`n`)."
   ],
   "metadata": {
    "collapsed": false
   }
  }
 ]
}
